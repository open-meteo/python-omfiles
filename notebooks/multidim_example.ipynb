{
 "cells": [
  {
   "cell_type": "markdown",
   "id": "8424d4ed-9608-4057-b0f7-08138fe16dd4",
   "metadata": {},
   "source": [
    "# OM-File Format Example"
   ]
  },
  {
   "cell_type": "code",
   "execution_count": 42,
   "id": "bb1374e8-4ca1-421a-83ea-2493df68b539",
   "metadata": {},
   "outputs": [],
   "source": [
    "# imports\n",
    "import omfilesrspy as om\n",
    "import numpy as np\n",
    "\n",
    "# generate some random test data\n",
    "data = np.random.random((10, 10, 10)).astype(np.float32) * 100"
   ]
  },
  {
   "cell_type": "markdown",
   "id": "a9e8bd94-584e-448c-a991-fc403588c386",
   "metadata": {},
   "source": [
    "### Basic Usage Example for 3 dimensional data!"
   ]
  },
  {
   "cell_type": "code",
   "execution_count": 43,
   "id": "41a3d7e2-39f9-46ae-b595-9f2404d0da0f",
   "metadata": {},
   "outputs": [
    {
     "name": "stdout",
     "output_type": "stream",
     "text": [
      "Shape: (5, 5, 10)\n",
      "[[[89.02  3.32 95.38 71.07 34.37 96.53 69.08 85.96 67.77 38.73]\n",
      "  [34.67 31.64 54.28 82.5  32.41  4.8  54.08 87.42  9.17 56.75]\n",
      "  [68.89 13.02 58.74 48.72 29.78 49.59  9.67 41.05 14.89  0.63]\n",
      "  [16.33  3.82 45.31 75.48  0.74 69.09 48.37 82.56 30.86 63.39]\n",
      "  [ 8.99 46.82 96.88 29.94 29.8  83.71 21.33 71.24 94.01 33.6 ]]\n",
      "\n",
      " [[90.78 10.42 20.23 74.1  18.37 91.44 75.73 57.98 60.37 76.95]\n",
      "  [31.93 60.42 49.19 72.74 51.29 18.15 64.83 60.17 16.26 44.43]\n",
      "  [78.01 40.66 30.09 63.5  21.98 59.24 36.25 52.32 70.82 42.7 ]\n",
      "  [63.98 28.99  6.94 35.19 27.01  0.78 66.06 61.8  34.53 97.99]\n",
      "  [ 4.98 53.32 89.89 87.41 38.51 11.45  0.81 89.66 83.64 49.15]]\n",
      "\n",
      " [[31.86 36.1  41.97  0.67 40.27 21.59 82.19 35.12 67.23 75.01]\n",
      "  [38.99 11.64 72.39 23.37 46.55  2.14 28.94 78.45 77.86 18.04]\n",
      "  [79.68 18.3  15.7  80.55 21.42 37.43 98.38 43.46 76.13 91.11]\n",
      "  [ 6.46 59.04 38.24 80.56 69.81  3.37 81.2  93.4  23.58 39.71]\n",
      "  [18.78 33.62 85.74  5.11 35.69 62.08 62.96 19.24  7.97 50.79]]\n",
      "\n",
      " [[67.48 23.8  40.65 98.17 73.42 91.34 97.18 34.79 21.59 52.76]\n",
      "  [16.15 26.63 86.51 88.73 93.16 19.92 46.18 99.91  1.36 58.14]\n",
      "  [46.72 41.78 23.65 35.58 46.6  52.88 74.99  6.33 22.25 95.59]\n",
      "  [38.96 73.87 31.97 92.99 73.07 43.28  1.59 75.12 85.65 19.66]\n",
      "  [ 7.57 58.76 72.78 98.87 55.61 56.02 23.43 39.64 80.94 36.99]]\n",
      "\n",
      " [[44.72 51.88 25.55  0.8  25.69 35.3  26.35  6.59 31.9  81.36]\n",
      "  [23.62 25.92 24.88 95.44 26.56 31.11 12.52 58.57 91.5  78.22]\n",
      "  [16.56 76.66 25.19 46.79 92.7  59.55 40.71 92.42  9.01 88.27]\n",
      "  [79.77  5.89 81.44 85.95  3.83 33.2  43.34 82.34  1.65 45.35]\n",
      "  [ 0.93 20.26 11.23 14.67 51.98 31.91 87.53 34.61 57.21 27.65]]]\n"
     ]
    }
   ],
   "source": [
    "# Simple write example\n",
    "writer = om.OmFilePyWriter(\"data.om\")\n",
    "writer.write_array_f32(data, chunks=(5, 5, 5), scale_factor=100, add_offset=0)\n",
    "\n",
    "# Simple read example\n",
    "reader = om.OmFilePyReader(\"data.om\")\n",
    "subset = reader[0:5, 0:5, ...]\n",
    "print(f\"Shape: {subset.shape}\")\n",
    "print(subset)"
   ]
  },
  {
   "cell_type": "markdown",
   "id": "ef1c0363-44cf-40e5-a149-e2fd1d961b91",
   "metadata": {},
   "source": [
    "### Example: Multiple dimensions flattened into a single dimension.\n",
    "\n",
    "Note that this is dangerous, because the user will most likely not 100% understand how the data is layed out in the backend/file. He might end up with the wrong data...\n",
    "1. First example shows how it is done in the wrong way.\n",
    "2. Second example shows how it could be done correctly."
   ]
  },
  {
   "cell_type": "code",
   "execution_count": 44,
   "id": "44eb7f1a-126c-4c0a-bf7c-74eb16de4e19",
   "metadata": {},
   "outputs": [
    {
     "name": "stdout",
     "output_type": "stream",
     "text": [
      "Shape: (5, 5, 10)\n",
      "[[[89.02  3.32 95.38 71.07 34.37 96.53 69.08 85.96 67.77 38.73]\n",
      "  [34.67 31.64 54.28 82.5  32.41  4.8  54.08 87.42  9.17 56.75]\n",
      "  [68.89 13.02 58.74 48.72 29.78 49.59  9.67 41.05 14.89  0.63]\n",
      "  [16.33  3.82 45.31 75.48  0.74 69.09 48.37 82.56 30.86 63.39]\n",
      "  [ 8.99 46.82 96.88 29.94 29.8  83.71 21.33 71.24 94.01 33.6 ]]\n",
      "\n",
      " [[46.7   2.09 91.17  9.45 23.3  12.07 82.01  2.05 52.37  9.04]\n",
      "  [59.54 11.01 12.81  6.18 59.78 38.57 25.57 13.01 61.8   1.84]\n",
      "  [86.92 43.86 28.04 53.3  53.44 57.51 42.74 45.61 21.04  8.26]\n",
      "  [40.13  7.16 38.51 23.15 36.51 32.34 18.39 35.74 88.54 46.51]\n",
      "  [67.66 78.45 68.85 79.49 45.81 71.23 41.95  7.34 92.98 38.24]]\n",
      "\n",
      " [[90.78 10.42 20.23 74.1  18.37 91.44 75.73 57.98 60.37 76.95]\n",
      "  [31.93 60.42 49.19 72.74 51.29 18.15 64.83 60.17 16.26 44.43]\n",
      "  [78.01 40.66 30.09 63.5  21.98 59.24 36.25 52.32 70.82 42.7 ]\n",
      "  [63.98 28.99  6.94 35.19 27.01  0.78 66.06 61.8  34.53 97.99]\n",
      "  [ 4.98 53.32 89.89 87.41 38.51 11.45  0.81 89.66 83.64 49.15]]\n",
      "\n",
      " [[ 0.3  74.61 42.14 92.89 40.56 59.72 89.12 62.65  0.21 33.32]\n",
      "  [76.25  0.21 68.51 99.98 40.7  23.2  92.58 22.02 98.84 36.66]\n",
      "  [29.43 96.78 97.78 57.38 27.38 42.73 19.08 72.75 16.16 36.6 ]\n",
      "  [91.02 27.46 89.42 83.64 85.97 38.46  1.59 80.64 80.49 72.58]\n",
      "  [95.41 79.34 93.67 42.15 37.62 86.09 48.11 27.3  54.28 25.17]]\n",
      "\n",
      " [[31.86 36.1  41.97  0.67 40.27 21.59 82.19 35.12 67.23 75.01]\n",
      "  [38.99 11.64 72.39 23.37 46.55  2.14 28.94 78.45 77.86 18.04]\n",
      "  [79.68 18.3  15.7  80.55 21.42 37.43 98.38 43.46 76.13 91.11]\n",
      "  [ 6.46 59.04 38.24 80.56 69.81  3.37 81.2  93.4  23.58 39.71]\n",
      "  [18.78 33.62 85.74  5.11 35.69 62.08 62.96 19.24  7.97 50.79]]]\n"
     ]
    }
   ],
   "source": [
    "# Flatten data to 1D\n",
    "flattened_data = data.flatten()\n",
    "# Write to file\n",
    "writer = om.OmFilePyWriter(\"data.om\")\n",
    "writer.write_array_f32(flattened_data, chunks=(100,), scale_factor=100, add_offset=0)\n",
    "\n",
    "# Read data from file\n",
    "reader = om.OmFilePyReader(\"data.om\")\n",
    "# Read data - NOTE: This is not really the data the user is interested in!\n",
    "read_data = reader[0:250]\n",
    "\n",
    "# Reshape back to original dimensions\n",
    "reshaped_data = read_data.reshape(5, 5, 10)\n",
    "# Display results\n",
    "print(f\"Shape: {reshaped_data.shape}\")\n",
    "print(reshaped_data)"
   ]
  },
  {
   "cell_type": "code",
   "execution_count": 47,
   "id": "0f5f460b-150d-4a1a-8b0e-aac7adfa5e1c",
   "metadata": {},
   "outputs": [
    {
     "name": "stdout",
     "output_type": "stream",
     "text": [
      "Shape: (5, 5, 10)\n",
      "[[[89.02  3.32 95.38 71.07 34.37 96.53 69.08 85.96 67.77 38.73]\n",
      "  [34.67 31.64 54.28 82.5  32.41  4.8  54.08 87.42  9.17 56.75]\n",
      "  [68.89 13.02 58.74 48.72 29.78 49.59  9.67 41.05 14.89  0.63]\n",
      "  [16.33  3.82 45.31 75.48  0.74 69.09 48.37 82.56 30.86 63.39]\n",
      "  [ 8.99 46.82 96.88 29.94 29.8  83.71 21.33 71.24 94.01 33.6 ]]\n",
      "\n",
      " [[90.78 10.42 20.23 74.1  18.37 91.44 75.73 57.98 60.37 76.95]\n",
      "  [31.93 60.42 49.19 72.74 51.29 18.15 64.83 60.17 16.26 44.43]\n",
      "  [78.01 40.66 30.09 63.5  21.98 59.24 36.25 52.32 70.82 42.7 ]\n",
      "  [63.98 28.99  6.94 35.19 27.01  0.78 66.06 61.8  34.53 97.99]\n",
      "  [ 4.98 53.32 89.89 87.41 38.51 11.45  0.81 89.66 83.64 49.15]]\n",
      "\n",
      " [[31.86 36.1  41.97  0.67 40.27 21.59 82.19 35.12 67.23 75.01]\n",
      "  [38.99 11.64 72.39 23.37 46.55  2.14 28.94 78.45 77.86 18.04]\n",
      "  [79.68 18.3  15.7  80.55 21.42 37.43 98.38 43.46 76.13 91.11]\n",
      "  [ 6.46 59.04 38.24 80.56 69.81  3.37 81.2  93.4  23.58 39.71]\n",
      "  [18.78 33.62 85.74  5.11 35.69 62.08 62.96 19.24  7.97 50.79]]\n",
      "\n",
      " [[67.48 23.8  40.65 98.17 73.42 91.34 97.18 34.79 21.59 52.76]\n",
      "  [16.15 26.63 86.51 88.73 93.16 19.92 46.18 99.91  1.36 58.14]\n",
      "  [46.72 41.78 23.65 35.58 46.6  52.88 74.99  6.33 22.25 95.59]\n",
      "  [38.96 73.87 31.97 92.99 73.07 43.28  1.59 75.12 85.65 19.66]\n",
      "  [ 7.57 58.76 72.78 98.87 55.61 56.02 23.43 39.64 80.94 36.99]]\n",
      "\n",
      " [[44.72 51.88 25.55  0.8  25.69 35.3  26.35  6.59 31.9  81.36]\n",
      "  [23.62 25.92 24.88 95.44 26.56 31.11 12.52 58.57 91.5  78.22]\n",
      "  [16.56 76.66 25.19 46.79 92.7  59.55 40.71 92.42  9.01 88.27]\n",
      "  [79.77  5.89 81.44 85.95  3.83 33.2  43.34 82.34  1.65 45.35]\n",
      "  [ 0.93 20.26 11.23 14.67 51.98 31.91 87.53 34.61 57.21 27.65]]]\n"
     ]
    }
   ],
   "source": [
    "# Flatten data to 1D\n",
    "flattened_data = data.flatten()\n",
    "# Write to file\n",
    "writer = om.OmFilePyWriter(\"data.om\")\n",
    "writer.write_array_f32(flattened_data, chunks=(100,), scale_factor=100, add_offset=0)\n",
    "\n",
    "# Read data from file\n",
    "reader = om.OmFilePyReader(\"data.om\")\n",
    "\n",
    "# Read data - \n",
    "# NOTE: Here we read the data we are really interested in. \n",
    "# Note that offloading such a responsibility to the user is not good!\n",
    "segments = [\n",
    "    reader[0:50],\n",
    "    reader[100:150],\n",
    "    reader[200:250],\n",
    "    reader[300:350],\n",
    "    reader[400:450],\n",
    "]\n",
    "\n",
    "# Concatenate all segments into a single array\n",
    "read_data = np.concatenate(segments)\n",
    "\n",
    "\n",
    "# Reshape back to original dimensions\n",
    "reshaped_data = read_data.reshape(5, 5, 10)\n",
    "# Display results\n",
    "print(f\"Shape: {reshaped_data.shape}\")\n",
    "print(reshaped_data)"
   ]
  },
  {
   "cell_type": "code",
   "execution_count": null,
   "id": "0abb2f09-243a-450d-93a3-d783ea6a460f",
   "metadata": {},
   "outputs": [],
   "source": []
  },
  {
   "cell_type": "code",
   "execution_count": null,
   "id": "97706822-4636-43d1-baed-fbfbb6ae14bd",
   "metadata": {},
   "outputs": [],
   "source": []
  }
 ],
 "metadata": {
  "kernelspec": {
   "display_name": "Python 3 (ipykernel)",
   "language": "python",
   "name": "python3"
  },
  "language_info": {
   "codemirror_mode": {
    "name": "ipython",
    "version": 3
   },
   "file_extension": ".py",
   "mimetype": "text/x-python",
   "name": "python",
   "nbconvert_exporter": "python",
   "pygments_lexer": "ipython3",
   "version": "3.12.8"
  }
 },
 "nbformat": 4,
 "nbformat_minor": 5
}
