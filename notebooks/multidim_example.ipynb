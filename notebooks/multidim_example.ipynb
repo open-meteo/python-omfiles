{
 "cells": [
  {
   "cell_type": "markdown",
   "id": "8424d4ed-9608-4057-b0f7-08138fe16dd4",
   "metadata": {},
   "source": [
    "# OM-File Format Example"
   ]
  },
  {
   "cell_type": "code",
   "execution_count": null,
   "id": "bb1374e8-4ca1-421a-83ea-2493df68b539",
   "metadata": {},
   "outputs": [],
   "source": [
    "# imports\n",
    "import omfiles as om\n",
    "import numpy as np\n",
    "\n",
    "# generate some random test data\n",
    "data = np.random.random((10, 10, 10)).astype(np.float32) * 100\n",
    "print(data[0, ...])\n",
    "print(data.shape)"
   ]
  },
  {
   "cell_type": "markdown",
   "id": "a9e8bd94-584e-448c-a991-fc403588c386",
   "metadata": {},
   "source": [
    "### Basic Usage Example for 3 dimensional data!"
   ]
  },
  {
   "cell_type": "code",
   "execution_count": null,
   "id": "41a3d7e2-39f9-46ae-b595-9f2404d0da0f",
   "metadata": {},
   "outputs": [],
   "source": [
    "# Simple write example\n",
    "writer = om.OmFilePyWriter(\"data.om\")\n",
    "data_var = writer.write_array(data, chunks=(5, 5, 5), scale_factor=100, add_offset=0)\n",
    "writer.close(data_var)\n",
    "\n",
    "# Simple read example\n",
    "reader = om.OmFilePyReader(\"data.om\")\n",
    "subset = reader[0:5, 0:5, ...]\n",
    "print(f\"Shape: {subset.shape}\")\n",
    "print(subset)"
   ]
  },
  {
   "cell_type": "markdown",
   "id": "ef1c0363-44cf-40e5-a149-e2fd1d961b91",
   "metadata": {},
   "source": [
    "### Example: Multiple dimensions flattened into a single dimension.\n",
    "\n",
    "Note that this is dangerous, because the user will most likely not 100% understand how the data is layed out in the backend/file. He might end up with the wrong data...\n",
    "1. First example shows how it is done in the wrong way.\n",
    "2. Second example shows how it could be done correctly."
   ]
  },
  {
   "cell_type": "code",
   "execution_count": null,
   "id": "44eb7f1a-126c-4c0a-bf7c-74eb16de4e19",
   "metadata": {},
   "outputs": [],
   "source": [
    "# Flatten data to 1D\n",
    "flattened_data = data.flatten()\n",
    "# Write to file\n",
    "writer = om.OmFilePyWriter(\"data.om\")\n",
    "data_var = writer.write_array(flattened_data, chunks=(100,), scale_factor=100, add_offset=0)\n",
    "writer.close(data_var)\n",
    "\n",
    "# Read data from file\n",
    "reader = om.OmFilePyReader(\"data.om\")\n",
    "# Read data - NOTE: This is not really the data the user is interested in!\n",
    "read_data = reader[0:250]\n",
    "\n",
    "print(\"read_data.shape\", read_data.shape)\n",
    "\n",
    "# Reshape back to original dimensions\n",
    "reshaped_data = read_data.reshape(5, 5, 10)\n",
    "# Display results\n",
    "print(f\"reshaped_data.shape: {reshaped_data.shape}\")\n",
    "print(reshaped_data)"
   ]
  },
  {
   "cell_type": "code",
   "execution_count": null,
   "id": "0f5f460b-150d-4a1a-8b0e-aac7adfa5e1c",
   "metadata": {},
   "outputs": [],
   "source": [
    "# Flatten data to 1D\n",
    "flattened_data = data.flatten()\n",
    "# Write to file\n",
    "writer = om.OmFilePyWriter(\"data.om\")\n",
    "data_var = writer.write_array(flattened_data, chunks=(100,), scale_factor=100, add_offset=0)\n",
    "writer.close(data_var)\n",
    "\n",
    "# Read data from file\n",
    "reader = om.OmFilePyReader(\"data.om\")\n",
    "\n",
    "# Read data - \n",
    "# NOTE: Here we read the data we are really interested in. \n",
    "# Note that offloading such a responsibility to the user is not good!\n",
    "segments = [\n",
    "    reader[0:50],\n",
    "    reader[100:150],\n",
    "    reader[200:250],\n",
    "    reader[300:350],\n",
    "    reader[400:450],\n",
    "]\n",
    "\n",
    "# Concatenate all segments into a single array\n",
    "read_data = np.concatenate(segments)\n",
    "\n",
    "# Reshape back to original dimensions\n",
    "reshaped_data = read_data.reshape(5, 5, 10)\n",
    "# Display results\n",
    "print(f\"Shape: {reshaped_data.shape}\")\n",
    "print(reshaped_data)"
   ]
  },
  {
   "cell_type": "code",
   "execution_count": null,
   "id": "0abb2f09-243a-450d-93a3-d783ea6a460f",
   "metadata": {},
   "outputs": [],
   "source": []
  },
  {
   "cell_type": "code",
   "execution_count": null,
   "id": "97706822-4636-43d1-baed-fbfbb6ae14bd",
   "metadata": {},
   "outputs": [],
   "source": []
  }
 ],
 "metadata": {
  "kernelspec": {
   "display_name": "Python 3 (ipykernel)",
   "language": "python",
   "name": "python3"
  },
  "language_info": {
   "codemirror_mode": {
    "name": "ipython",
    "version": 3
   },
   "file_extension": ".py",
   "mimetype": "text/x-python",
   "name": "python",
   "nbconvert_exporter": "python",
   "pygments_lexer": "ipython3",
   "version": "3.12.10"
  }
 },
 "nbformat": 4,
 "nbformat_minor": 5
}
